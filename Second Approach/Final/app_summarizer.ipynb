{
 "cells": [
  {
   "cell_type": "markdown",
   "id": "8e2d29cc-28ee-4960-929b-88c61e8ef375",
   "metadata": {},
   "source": [
    "# Flask Server \n",
    "- Summarizing the resume content and Screening Question generation\n",
    "- Will be integrated with shortlister first.\n",
    "---\n",
    "## Importing Dependencies:"
   ]
  },
  {
   "cell_type": "code",
   "execution_count": 50,
   "id": "7a200bce-15ac-4c25-a516-d2e761fbe8d8",
   "metadata": {},
   "outputs": [],
   "source": [
    "import os, re, json, requests, shutil\n",
    "import numpy as np, pandas as pd\n",
    "import openai\n",
    "from langchain.document_loaders import PyMuPDFLoader\n",
    "from langchain.vectorstores import Chroma\n",
    "from langchain.embeddings import OpenAIEmbeddings\n",
    "from langchain.chat_models import ChatOpenAI\n",
    "from langchain.chains import RetrievalQA\n",
    "\n",
    "from flask import Flask, request, jsonify\n",
    "from dotenv import load_dotenv\n",
    "from flask_cors import CORS\n",
    "import sqlite3"
   ]
  },
  {
   "cell_type": "code",
   "execution_count": null,
   "id": "61eb2e95-1ac0-4085-8293-7c8d39f53d68",
   "metadata": {},
   "outputs": [],
   "source": []
  },
  {
   "cell_type": "markdown",
   "id": "5b9cf999-ed65-4ab8-976b-290b6b704a50",
   "metadata": {},
   "source": [
    "## OpenAI api key fetching:"
   ]
  },
  {
   "cell_type": "code",
   "execution_count": 2,
   "id": "6c11592d-9009-47fa-b407-a9b9ed73d01e",
   "metadata": {},
   "outputs": [
    {
     "data": {
      "text/plain": [
       "True"
      ]
     },
     "execution_count": 2,
     "metadata": {},
     "output_type": "execute_result"
    }
   ],
   "source": [
    "load_dotenv()"
   ]
  },
  {
   "cell_type": "code",
   "execution_count": 3,
   "id": "03781376-22e8-4a55-b73b-9e4022413abd",
   "metadata": {},
   "outputs": [],
   "source": [
    "OPENAI_API_KEY = os.getenv(\"OPENAI_API_KEY\")"
   ]
  },
  {
   "cell_type": "markdown",
   "id": "9903a14e-c073-4b08-8cf2-027030460b94",
   "metadata": {},
   "source": [
    "---"
   ]
  },
  {
   "cell_type": "markdown",
   "id": "2b03d505-142a-496f-9660-8377e3ccf622",
   "metadata": {},
   "source": [
    "## Document Loader:"
   ]
  },
  {
   "cell_type": "code",
   "execution_count": 4,
   "id": "953598f0-7acb-48b1-a616-df9576346aae",
   "metadata": {},
   "outputs": [
    {
     "data": {
      "text/plain": [
       "'samples_resume\\\\00.pdf'"
      ]
     },
     "execution_count": 4,
     "metadata": {},
     "output_type": "execute_result"
    }
   ],
   "source": [
    "path_to_cv = os.path.join('samples_resume',os.listdir('samples_resume')[0])\n",
    "path_to_cv"
   ]
  },
  {
   "cell_type": "code",
   "execution_count": 5,
   "id": "b8eadf68-5cc2-48b8-a168-d7871ab984c5",
   "metadata": {},
   "outputs": [],
   "source": [
    "def load_cv(path_to_cv):\n",
    "    loader = PyMuPDFLoader(path_to_cv)\n",
    "    document = loader.load()\n",
    "    return document"
   ]
  },
  {
   "cell_type": "code",
   "execution_count": 6,
   "id": "f0188ec1-25b2-42e0-be6f-ba5cd370d2ae",
   "metadata": {},
   "outputs": [],
   "source": [
    "# load_cv(path_to_cv)"
   ]
  },
  {
   "cell_type": "code",
   "execution_count": 7,
   "id": "68454ffd-bfbf-4b8a-9a52-8558f4c9c444",
   "metadata": {},
   "outputs": [],
   "source": [
    "# os.remove(os.path.join('tmp',os.listdir('tmp')[0]))"
   ]
  },
  {
   "cell_type": "code",
   "execution_count": 8,
   "id": "57bb0de0-7b18-407c-a5cc-1e5e7997081b",
   "metadata": {},
   "outputs": [],
   "source": [
    "# os.listdir('tmp')[0]"
   ]
  },
  {
   "cell_type": "code",
   "execution_count": 9,
   "id": "0ab56004-6744-4f87-8f7c-dce1ffdae1aa",
   "metadata": {},
   "outputs": [],
   "source": [
    "# shutil.rmtree(os.path.join('tmp',os.listdir('tmp')[0]))"
   ]
  },
  {
   "cell_type": "markdown",
   "id": "313eb001-9bb7-4a20-a1d0-e42520e6a089",
   "metadata": {},
   "source": [
    "---\n",
    "## Embeddings setup and persist_directory path setup for chromaDB:"
   ]
  },
  {
   "cell_type": "code",
   "execution_count": 48,
   "id": "03e46424-1d94-4d14-9f65-019f27d3a4d9",
   "metadata": {},
   "outputs": [],
   "source": [
    "embeddings = OpenAIEmbeddings()\n",
    "persist_dir = os.path.join('app_persist_directory')\n",
    "llm = ChatOpenAI()"
   ]
  },
  {
   "cell_type": "code",
   "execution_count": null,
   "id": "24c17222-ab7a-4406-b22e-74eead17ab20",
   "metadata": {},
   "outputs": [],
   "source": []
  },
  {
   "cell_type": "markdown",
   "id": "a51eec66-b3b0-48e5-b901-3000a411e56b",
   "metadata": {},
   "source": [
    "---"
   ]
  },
  {
   "cell_type": "markdown",
   "id": "c595e025-61cb-418a-9b14-58d4b7c39969",
   "metadata": {},
   "source": [
    "### Open AI test:"
   ]
  },
  {
   "cell_type": "code",
   "execution_count": 49,
   "id": "7366f68f-7c6a-4b34-9b78-17390f65601f",
   "metadata": {},
   "outputs": [],
   "source": [
    "prompts = [\"What job role is suitable for this resume? [only job role word: No explanation]\", \n",
    "         \"should I shortlist this resume for the {} job role? [only yes|no answer: no explanation]\",\n",
    "         \"top technical skills -list [only wordings separated by commas, no explanation] in given resume\",\n",
    "          \"Other possible job role candidate is eligible for? [list separated by commas, only words: no explanation\",\n",
    "         \"On the basis of the {} skillsets, generate {} logical based hard level screening questions [hard-level : MCQs], Also provide answers at the very end of the output separated by commas\",\n",
    "          \"Summarize this resume in {} words\"         \n",
    "         ]"
   ]
  },
  {
   "cell_type": "code",
   "execution_count": 51,
   "id": "e6152d9b-f7af-49d8-bd27-471b1b5b50b1",
   "metadata": {},
   "outputs": [
    {
     "data": {
      "text/plain": [
       "'database\\\\raw_database.db'"
      ]
     },
     "execution_count": 51,
     "metadata": {},
     "output_type": "execute_result"
    }
   ],
   "source": [
    "DATABASE_path = os.path.join('database', 'raw_database.db')\n",
    "DATABASE_path"
   ]
  },
  {
   "cell_type": "code",
   "execution_count": 45,
   "id": "1e389024-6bcc-435c-b7de-8cac1dba5ee2",
   "metadata": {},
   "outputs": [
    {
     "data": {
      "text/plain": [
       "'samples_resume\\\\00.pdf'"
      ]
     },
     "execution_count": 45,
     "metadata": {},
     "output_type": "execute_result"
    }
   ],
   "source": [
    "path_to_cv = os.path.join('samples_resume',os.listdir('samples_resume')[0])\n",
    "path_to_cv"
   ]
  },
  {
   "cell_type": "markdown",
   "id": "e0c6d6e0-25ac-4e4b-943a-08b0dda3d1c2",
   "metadata": {},
   "source": [
    "---"
   ]
  },
  {
   "cell_type": "markdown",
   "id": "74baee6e-a431-4aaf-a26d-433033ebf83e",
   "metadata": {},
   "source": [
    "## Flask Server Building:"
   ]
  },
  {
   "cell_type": "code",
   "execution_count": 54,
   "id": "52a6398b-afdc-4c73-940d-f4fa2ae46ed9",
   "metadata": {},
   "outputs": [],
   "source": [
    "app = Flask(__name__)\n",
    "CORS(app)\n",
    "\n",
    "@app.route('/')\n",
    "def hello():\n",
    "    print(\"http://127.0.0.1:5000/\")\n",
    "    return \"server is working...\"\n",
    "\n",
    "\n",
    "@app.route('/test', methods=['POST'])\n",
    "def test():\n",
    "    data = request.get_json()\n",
    "    # print(type(data))\n",
    "    if data is not None:\n",
    "        return jsonify({\"Status\": \"working\"})\n",
    "    return jsonify({\"Status\": \"No data recieved\"})\n",
    "\n",
    "@app.route('/summarize', methods=['POST'])\n",
    "def summarize():\n",
    "    # Fetching Details\n",
    "    data = request.get_json()\n",
    "    \n",
    "    name = data['name']\n",
    "    contact_no = data['contact_no']\n",
    "    email = data['email']\n",
    "    skills = data['skills']\n",
    "    projectLinks = data['projectLinks']\n",
    "    job_role = data['job_role']\n",
    "    # resume_file = data['resume_file']\n",
    "    \n",
    "    # eligible = data['eligibility']\n",
    "    # job_role_predicted = data['job_role_predicted']\n",
    "    # skills_extracted = data['skills_extracted']\n",
    "\n",
    "    resume_file = 'Temp_Test'\n",
    "    loader = PyMuPDFLoader(path_to_cv)\n",
    "    document = loader.load()\n",
    "\n",
    "    vectordb = Chroma.from_documents(\n",
    "        documents = document,\n",
    "        embedding = embeddings,\n",
    "        persist_directory = persist_dir\n",
    "    )\n",
    "    vectordb.persist()\n",
    "    \n",
    "\n",
    "\n",
    "    retriever = vectordb.as_retriever(search_kwargs={'k':3})\n",
    "    qa = RetrievalQA.from_chain_type(llm=llm, chain_type='stuff', retriever=retriever)\n",
    "\n",
    "    query = f\"###Prompt {prompts[0]}\"\n",
    "    llm_response = qa(query)\n",
    "    job_title_prediction = llm_response['result']\n",
    "\n",
    "    query = f\"###Prompt {prompts[1].format(job_role)}\"\n",
    "    llm_response = qa(query)\n",
    "    isEligible = llm_response['result']\n",
    "\n",
    "    query = f\"###Prompt {prompts[2]}\"\n",
    "    llm_response = qa(query)\n",
    "    skills_extracted = llm_response['result']\n",
    "\n",
    "    query = f\"###Prompt {prompts[3]}\"\n",
    "    llm_response = qa(query)\n",
    "    job_role_predicted = llm_response['result']\n",
    "\n",
    "    query = f\"###Prompt {prompts[4].format(skills_extracted, 15)}\"\n",
    "    llm_response = qa(query)\n",
    "    screening_questions = llm_response['result']\n",
    "\n",
    "    query = f\"###Prompt {prompts[5].format(60)}\"\n",
    "    llm_response = qa(query)\n",
    "    summary = llm_response['result']\n",
    "\n",
    "\n",
    "    # More evaluation steps here:\n",
    "\n",
    "\n",
    "\n",
    "\n",
    "    # Pushing into Database\n",
    "    conn = sqlite3.connect(DATABASE_path)\n",
    "    cur = conn.cursor()\n",
    "\n",
    "    cur.execute(f\"INSERT INTO table_name...\")\n",
    "\n",
    "\n",
    "    conn.commit()\n",
    "    conn.close()\n",
    "    vectordb.delete_collection()\n",
    "    \n",
    "    \n",
    "\n",
    "    return jsonify({\"message\": \"Congratulations You have applied for the following role successfully!!\"})\n",
    "\n",
    "\n",
    "    \n",
    "    "
   ]
  },
  {
   "cell_type": "code",
   "execution_count": 55,
   "id": "f976bd7d-ec93-4f4b-af6c-bc3b8b70e963",
   "metadata": {},
   "outputs": [
    {
     "name": "stdout",
     "output_type": "stream",
     "text": [
      " * Serving Flask app '__main__'\n",
      " * Debug mode: off\n"
     ]
    },
    {
     "name": "stderr",
     "output_type": "stream",
     "text": [
      "WARNING: This is a development server. Do not use it in a production deployment. Use a production WSGI server instead.\n",
      " * Running on http://127.0.0.1:5000\n",
      "Press CTRL+C to quit\n",
      "127.0.0.1 - - [10/Aug/2023 13:00:38] \"POST /add HTTP/1.1\" 404 -\n",
      "127.0.0.1 - - [10/Aug/2023 13:01:03] \"GET /add HTTP/1.1\" 404 -\n",
      "127.0.0.1 - - [10/Aug/2023 13:01:08] \"GET / HTTP/1.1\" 200 -\n"
     ]
    },
    {
     "name": "stdout",
     "output_type": "stream",
     "text": [
      "http://127.0.0.1:5000/\n"
     ]
    },
    {
     "name": "stderr",
     "output_type": "stream",
     "text": [
      "127.0.0.1 - - [10/Aug/2023 13:09:20] \"POST /add HTTP/1.1\" 404 -\n",
      "127.0.0.1 - - [10/Aug/2023 13:09:22] \"POST /add HTTP/1.1\" 404 -\n",
      "127.0.0.1 - - [10/Aug/2023 13:09:26] \"GET /add HTTP/1.1\" 404 -\n"
     ]
    }
   ],
   "source": [
    "if __name__ == \"__main__\":\n",
    "    # app.run(debug=True)\n",
    "    app.run()"
   ]
  },
  {
   "cell_type": "code",
   "execution_count": null,
   "id": "fb082be6-766c-4923-b99d-939a44e6dca7",
   "metadata": {},
   "outputs": [],
   "source": []
  },
  {
   "cell_type": "code",
   "execution_count": null,
   "id": "4d3b1726-9048-4774-8a24-31bdc0811bbc",
   "metadata": {},
   "outputs": [],
   "source": []
  }
 ],
 "metadata": {
  "kernelspec": {
   "display_name": "Python 3 (ipykernel)",
   "language": "python",
   "name": "python3"
  },
  "language_info": {
   "codemirror_mode": {
    "name": "ipython",
    "version": 3
   },
   "file_extension": ".py",
   "mimetype": "text/x-python",
   "name": "python",
   "nbconvert_exporter": "python",
   "pygments_lexer": "ipython3",
   "version": "3.10.11"
  }
 },
 "nbformat": 4,
 "nbformat_minor": 5
}
