{
 "cells": [
  {
   "cell_type": "markdown",
   "id": "1008a149-604b-45fa-bf78-bd649b727208",
   "metadata": {},
   "source": [
    "# Resume Shortlister Model Train:\n",
    "---\n",
    "## Importing Libraries:"
   ]
  },
  {
   "cell_type": "code",
   "execution_count": 131,
   "id": "1e661d47-b11a-4d20-8427-dd6b68bc9872",
   "metadata": {},
   "outputs": [],
   "source": [
    "import os, re, nltk, sys\n",
    "from nltk.corpus import stopwords\n",
    "from nltk.stem.wordnet import WordNetLemmatizer\n",
    "from sklearn.feature_extraction.text import TfidfVectorizer\n",
    "\n",
    "from langchain.document_loaders import PyMuPDFLoader\n",
    "from langchain.vectorstores import Chroma\n",
    "from langchain.embeddings import OpenAIEmbeddings\n",
    "from langchain.chat_models import ChatOpenAI\n",
    "from langchain.chains import RetrievalQA\n",
    "import numpy as np, pandas as pd\n",
    "\n",
    "from dotenv import load_dotenv\n",
    "\n",
    "from sklearn.cluster import DBSCAN\n",
    "from sklearn.decomposition import PCA\n",
    "import matplotlib.pyplot as plt"
   ]
  },
  {
   "cell_type": "code",
   "execution_count": 4,
   "id": "15a563c9-9926-4822-ab8a-0592d4a62260",
   "metadata": {},
   "outputs": [
    {
     "data": {
      "text/plain": [
       "True"
      ]
     },
     "execution_count": 4,
     "metadata": {},
     "output_type": "execute_result"
    }
   ],
   "source": [
    "load_dotenv()"
   ]
  },
  {
   "cell_type": "markdown",
   "id": "5f23431d-bb5b-43f0-8f48-86cc1a50c371",
   "metadata": {},
   "source": [
    "## OpenAI API-KEY Setup 🗝️"
   ]
  },
  {
   "cell_type": "code",
   "execution_count": 6,
   "id": "9f289490-70b8-40e5-890f-653deab27e0d",
   "metadata": {},
   "outputs": [],
   "source": [
    "OPENAI_API_KEY = os.getenv('OPENAI_API_KEY')"
   ]
  },
  {
   "cell_type": "code",
   "execution_count": null,
   "id": "1d847938-ab7e-40e3-aa78-a5f0a2f8e6a8",
   "metadata": {},
   "outputs": [],
   "source": []
  },
  {
   "cell_type": "markdown",
   "id": "48227942-0ed8-4af7-a0f8-324e152e6507",
   "metadata": {},
   "source": [
    "## Loading CV/Resume Files:"
   ]
  },
  {
   "cell_type": "code",
   "execution_count": 11,
   "id": "d67f77f4-4438-4a49-a83c-0022cef24937",
   "metadata": {},
   "outputs": [
    {
     "data": {
      "text/plain": [
       "'Extracted Resumes 1000\\\\CV Samples 01'"
      ]
     },
     "execution_count": 11,
     "metadata": {},
     "output_type": "execute_result"
    }
   ],
   "source": [
    "cv_samples_path01 = os.path.join('Extracted Resumes 1000', 'CV Samples 01')\n",
    "cv_samples_path02 = os.path.join('Extracted Resumes 1000', 'CV Samples 02')\n",
    "cv_samples_path01"
   ]
  },
  {
   "cell_type": "code",
   "execution_count": 13,
   "id": "ff589f6f-9927-4bd9-87b8-d00311950cf9",
   "metadata": {},
   "outputs": [
    {
     "data": {
      "text/plain": [
       "600"
      ]
     },
     "execution_count": 13,
     "metadata": {},
     "output_type": "execute_result"
    }
   ],
   "source": [
    "len(os.listdir(cv_samples_path01))"
   ]
  },
  {
   "cell_type": "markdown",
   "id": "954f3d44-8614-44cb-b387-b7521f45bf66",
   "metadata": {},
   "source": [
    "### Loading pdf files and extracting content"
   ]
  },
  {
   "cell_type": "code",
   "execution_count": 15,
   "id": "688c13b9-0b72-41e7-b36c-208f32809b7c",
   "metadata": {},
   "outputs": [],
   "source": [
    "# File Loading Pipeline::\n",
    "def load_cvs(cv_file_path):\n",
    "    cv_data = []\n",
    "    for cv in os.listdir(cv_file_path):\n",
    "        loader = PyMuPDFLoader(os.path.join(cv_file_path, cv))\n",
    "        documents = loader.load()\n",
    "        if documents is not None:\n",
    "            cv_data.append(documents)\n",
    "    return cv_data"
   ]
  },
  {
   "cell_type": "code",
   "execution_count": 23,
   "id": "37bfc8c9-6e39-423e-9427-3b1586b9f6d7",
   "metadata": {},
   "outputs": [],
   "source": [
    "cv_raw_data01 = load_cvs(cv_samples_path01) "
   ]
  },
  {
   "cell_type": "code",
   "execution_count": 24,
   "id": "133fb947-4c0e-4191-aee3-077339eca746",
   "metadata": {},
   "outputs": [
    {
     "data": {
      "text/plain": [
       "600"
      ]
     },
     "execution_count": 24,
     "metadata": {},
     "output_type": "execute_result"
    }
   ],
   "source": [
    "len(cv_raw_data01)"
   ]
  },
  {
   "cell_type": "code",
   "execution_count": 38,
   "id": "71e3ab46-3b9f-4ca9-8452-1240d5b17e61",
   "metadata": {},
   "outputs": [
    {
     "data": {
      "text/plain": [
       "Document(page_content=\"Michael Hamill\\n123 Main Street, Los Angeles. CA 33333\\nyouremail@email.com\\n(123) 456*7890\\n• Assisted in preparing debit and credit documents for a client base \\nof over 100\\n• Helped with the weekly audit of varying accounts\\n• Learned Quicken and ZipBooks Software\\n• Organized files and maintained records for the current List of \\nclients and vendors\\n• Assisted the team leader on new company projects\\n• Collaborated with other interns to complete key projects\\n• Detail-oriented when working under tight deadlines\\n• Ability to perform complex accounting procedures and provide \\nassistance to support staff\\nCollege graduate with three years of accounting internship experience. Possesses CPA certification and has the \\nability to work long and flexible hours. Proficient in multiple software platforms including QuickBooks and Quicken \\nwith the ability to Learn quickly. Proven team leader who works well with others yet can work alone with success.\\nEducation\\nBachelor of Science in\\nAccounting, GPA 3.9\\nLos Angeles University, \\nLos Angeles, CA \\nMay 2015 - May 2018\\n• \\nMinored in Business \\nAdministration\\n• \\nMember of the University's \\nchapter of the Accounting Society\\nProfessional Experience\\nAccounting Intern\\nWoolworth’s Incorporated, Los Angeles, CA | October 2017-November \\n2019\\nKey Skills\\n• \\nAble to perform budget planning \\nfor medium to large groups\\n♦ \\nCan perform multiple accounting \\ntasks with attention to detail\\n• \\nCPA certification\\n• \\nKnowledgeable in NetSuite \\nsoftware\\n• \\nKnowledgeable of accounts \\nreceivable and payable\\n• \\nOrganized and pays close \\nattention to detail\\n• \\nStrong written and verbal skills\\n\", metadata={'source': 'Extracted Resumes 1000\\\\CV Samples 01\\\\Resume Combined 1 1.pdf', 'file_path': 'Extracted Resumes 1000\\\\CV Samples 01\\\\Resume Combined 1 1.pdf', 'page': 0, 'total_pages': 1, 'format': 'PDF 1.6', 'title': 'Accountant_Entry-level.docx', 'author': '', 'subject': '', 'keywords': '', 'creator': 'ABBYY FineReader PDF', 'producer': 'Skia/PDF m105 Google Docs Renderer', 'creationDate': 'D:20230809165129Z', 'modDate': \"D:20230809231643+05'30'\", 'trapped': ''})"
      ]
     },
     "execution_count": 38,
     "metadata": {},
     "output_type": "execute_result"
    }
   ],
   "source": [
    "cv_raw_data01[0][0]"
   ]
  },
  {
   "cell_type": "markdown",
   "id": "ee23e745-0bfb-44ec-8ee8-a0fd5890a80a",
   "metadata": {},
   "source": [
    "## Text Extraction:"
   ]
  },
  {
   "cell_type": "code",
   "execution_count": 47,
   "id": "d742a7fb-e7e3-4709-8cd5-fd155a56cfc9",
   "metadata": {},
   "outputs": [
    {
     "data": {
      "text/plain": [
       "[\"Michael Hamill\\n123 Main Street, Los Angeles. CA 33333\\nyouremail@email.com\\n(123) 456*7890\\n• Assisted in preparing debit and credit documents for a client base \\nof over 100\\n• Helped with the weekly audit of varying accounts\\n• Learned Quicken and ZipBooks Software\\n• Organized files and maintained records for the current List of \\nclients and vendors\\n• Assisted the team leader on new company projects\\n• Collaborated with other interns to complete key projects\\n• Detail-oriented when working under tight deadlines\\n• Ability to perform complex accounting procedures and provide \\nassistance to support staff\\nCollege graduate with three years of accounting internship experience. Possesses CPA certification and has the \\nability to work long and flexible hours. Proficient in multiple software platforms including QuickBooks and Quicken \\nwith the ability to Learn quickly. Proven team leader who works well with others yet can work alone with success.\\nEducation\\nBachelor of Science in\\nAccounting, GPA 3.9\\nLos Angeles University, \\nLos Angeles, CA \\nMay 2015 - May 2018\\n• \\nMinored in Business \\nAdministration\\n• \\nMember of the University's \\nchapter of the Accounting Society\\nProfessional Experience\\nAccounting Intern\\nWoolworth’s Incorporated, Los Angeles, CA | October 2017-November \\n2019\\nKey Skills\\n• \\nAble to perform budget planning \\nfor medium to large groups\\n♦ \\nCan perform multiple accounting \\ntasks with attention to detail\\n• \\nCPA certification\\n• \\nKnowledgeable in NetSuite \\nsoftware\\n• \\nKnowledgeable of accounts \\nreceivable and payable\\n• \\nOrganized and pays close \\nattention to detail\\n• \\nStrong written and verbal skills\\n\"]"
      ]
     },
     "execution_count": 47,
     "metadata": {},
     "output_type": "execute_result"
    }
   ],
   "source": [
    "cv_text_data01 = [[doc.page_content for doc in documents] for documents in cv_raw_data01]\n",
    "# len(cv_text_data01)\n",
    "cv_text_data01[0]"
   ]
  },
  {
   "cell_type": "code",
   "execution_count": 77,
   "id": "2882b8c0-7d99-4b19-ab34-7929929c6dd8",
   "metadata": {},
   "outputs": [
    {
     "name": "stdout",
     "output_type": "stream",
     "text": [
      "['RAHEEM\\nRICHARDSON\\n123 Carpenter Street, \\nPhiladelphia, PA, 12345\\nraheerririchardson@example.com \\n(123) 456-7890\\nEDUCATION\\nBachelor of Science (B.S.) \\nKinesiology\\nTemple University, \\nPhiladelphia, PA \\nSeptember 2012 - May 2016\\nKEY SKILLS\\n♦ \\nCoaching\\n♦ \\nAthletic Program \\nManagement\\n♦ \\nStrength and \\nConditioning\\n♦ \\nTalent Scouting\\n♦ \\nCommunication\\nA Head Football Coach with five years of experience specializing in \\nathletic program management, physical education, coaching, and talent \\nscouting. A proven track record of coaching and mentoring high school \\nathletes to achieve athletic goals and academic success.\\nPROFESSIONAL EXPERIENCE\\nHead Football Coach\\nSouth Philadelphia High School, Philadelphia, PA | May 2018 - Present\\n• \\nDevelop athletic programs to drive academic excellence, \\npersonal development, and career development for \\nstudent-athletes\\n• \\nServe as the point of contact for student-athletes, provide \\nmentorship and coaching, develop strength and conditioning \\nprograms, and manage rehabilitation programs\\n• \\nPlan and implement gameday strategies in collaboration with \\noffensive and defensive coordinators, resulting in a \\nconference championship appearance in 2021\\nOffensive Coordinator\\nSouth Philadelphia High School, Philadelphia, PA | May 2016 - May 2018\\n• \\nServed as the offensive coordinator for the South \\nPhiladelphia Knights Football Team, created dynamic plays \\naccording to athlete strengths and weaknesses, and \\nconducted gameday planning with the Head Football Coach\\n• \\nScheduled practices, analyzed game and practice film to \\nrevise gameplans, and provided coaching and mentorship to \\nstudent-athletes to facilitate professional growth\\nATHLETIC ACHIEVEMENTS\\nWide Receiver\\nTemple University Football Team, Philadelphia, PA | September 2012 - May \\n2016\\n• \\nServed as a team captain for the Temple University Football \\nTeam in 2015 and 2016, achieved 600 offensive yards and 13 \\nTDs in the 2016 season, and received a nomination for \\nconference offensive player of the week for performance in \\nthe Rose Bowl Game\\n']\n"
     ]
    }
   ],
   "source": [
    "data = [[doc.page_content for doc in documents] for documents in cv_raw_data01]\n",
    "len(data)\n",
    "print(data[564])\n",
    "del data"
   ]
  },
  {
   "cell_type": "markdown",
   "id": "2c3279b5-81b4-4f78-9e3c-a8d9fa97017c",
   "metadata": {},
   "source": [
    "---\n",
    "### Text Cleaning:"
   ]
  },
  {
   "cell_type": "code",
   "execution_count": 50,
   "id": "1c2f98ff-98fc-4baf-9894-dc972291b846",
   "metadata": {},
   "outputs": [],
   "source": [
    "## Text cleaning Pipeline:\n",
    "def clean_txt(text):\n",
    "    # url remover:\n",
    "    text = re.sub(r\"http\\S+|www\\S+|https\\S+\", '', text, flags=re.MULTILINE)\n",
    "\n",
    "    # email addresses remover: \n",
    "    text = re.sub(r'\\S*@\\S*\\s?', '', text)\n",
    "\n",
    "    # Special Character remover:\n",
    "    text = re.sub(r'[^a-zA-Z\\s]', '', text)\n",
    "\n",
    "    # lowercase conversion:\n",
    "    text = text.lower().strip()\n",
    "\n",
    "    return text\n",
    "\n",
    "def cleaned_data(raw_text):\n",
    "    cleaned = [clean_txt(text) for text in raw_text]\n",
    "    return cleaned"
   ]
  },
  {
   "cell_type": "code",
   "execution_count": null,
   "id": "e12afb51-7342-43fb-b644-9262ef7c5ec7",
   "metadata": {},
   "outputs": [],
   "source": []
  },
  {
   "cell_type": "code",
   "execution_count": 49,
   "id": "bbeea67d-3d87-401d-96fd-ef0440845b06",
   "metadata": {},
   "outputs": [
    {
     "data": {
      "text/plain": [
       "'michael hamill\\n main street los angeles ca \\n \\n assisted in preparing debit and credit documents for a client base \\nof over \\n helped with the weekly audit of varying accounts\\n learned quicken and zipbooks software\\n organized files and maintained records for the current list of \\nclients and vendors\\n assisted the team leader on new company projects\\n collaborated with other interns to complete key projects\\n detailoriented when working under tight deadlines\\n ability to perform complex accounting procedures and provide \\nassistance to support staff\\ncollege graduate with three years of accounting internship experience possesses cpa certification and has the \\nability to work long and flexible hours proficient in multiple software platforms including quickbooks and quicken \\nwith the ability to learn quickly proven team leader who works well with others yet can work alone with success\\neducation\\nbachelor of science in\\naccounting gpa \\nlos angeles university \\nlos angeles ca \\nmay   may \\n \\nminored in business \\nadministration\\n \\nmember of the universitys \\nchapter of the accounting society\\nprofessional experience\\naccounting intern\\nwoolworths incorporated los angeles ca  october november \\n\\nkey skills\\n \\nable to perform budget planning \\nfor medium to large groups\\n \\ncan perform multiple accounting \\ntasks with attention to detail\\n \\ncpa certification\\n \\nknowledgeable in netsuite \\nsoftware\\n \\nknowledgeable of accounts \\nreceivable and payable\\n \\norganized and pays close \\nattention to detail\\n \\nstrong written and verbal skills'"
      ]
     },
     "execution_count": 49,
     "metadata": {},
     "output_type": "execute_result"
    }
   ],
   "source": [
    "clean_txt(cv_text_data01[0][0])"
   ]
  },
  {
   "cell_type": "code",
   "execution_count": 52,
   "id": "d39055a6-c310-44ef-a83f-7f9cdd89d87e",
   "metadata": {},
   "outputs": [
    {
     "data": {
      "text/plain": [
       "['michael hamill\\n main street los angeles ca \\n \\n assisted in preparing debit and credit documents for a client base \\nof over \\n helped with the weekly audit of varying accounts\\n learned quicken and zipbooks software\\n organized files and maintained records for the current list of \\nclients and vendors\\n assisted the team leader on new company projects\\n collaborated with other interns to complete key projects\\n detailoriented when working under tight deadlines\\n ability to perform complex accounting procedures and provide \\nassistance to support staff\\ncollege graduate with three years of accounting internship experience possesses cpa certification and has the \\nability to work long and flexible hours proficient in multiple software platforms including quickbooks and quicken \\nwith the ability to learn quickly proven team leader who works well with others yet can work alone with success\\neducation\\nbachelor of science in\\naccounting gpa \\nlos angeles university \\nlos angeles ca \\nmay   may \\n \\nminored in business \\nadministration\\n \\nmember of the universitys \\nchapter of the accounting society\\nprofessional experience\\naccounting intern\\nwoolworths incorporated los angeles ca  october november \\n\\nkey skills\\n \\nable to perform budget planning \\nfor medium to large groups\\n \\ncan perform multiple accounting \\ntasks with attention to detail\\n \\ncpa certification\\n \\nknowledgeable in netsuite \\nsoftware\\n \\nknowledgeable of accounts \\nreceivable and payable\\n \\norganized and pays close \\nattention to detail\\n \\nstrong written and verbal skills']"
      ]
     },
     "execution_count": 52,
     "metadata": {},
     "output_type": "execute_result"
    }
   ],
   "source": [
    "cleaned_data(cv_text_data01[0])"
   ]
  },
  {
   "cell_type": "code",
   "execution_count": 66,
   "id": "8611687c-4126-451e-abc0-21d69c1d58a3",
   "metadata": {},
   "outputs": [
    {
     "data": {
      "text/plain": [
       "600"
      ]
     },
     "execution_count": 66,
     "metadata": {},
     "output_type": "execute_result"
    }
   ],
   "source": [
    "cv_cleaned_data = []\n",
    "for cv_content in cv_text_data01:\n",
    "    # print(cv_content)\n",
    "    # print(cleaned_data(cv_content) )\n",
    "    cv_cleaned_data.append(cleaned_data(cv_content))\n",
    "len(cv_cleaned_data)"
   ]
  },
  {
   "cell_type": "code",
   "execution_count": 68,
   "id": "629ce968-acfa-4af1-a4d0-532a98f53ee0",
   "metadata": {},
   "outputs": [
    {
     "data": {
      "text/plain": [
       "'michael hamill\\n main street los angeles ca \\n \\n assisted in preparing debit and credit documents for a client base \\nof over \\n helped with the weekly audit of varying accounts\\n learned quicken and zipbooks software\\n organized files and maintained records for the current list of \\nclients and vendors\\n assisted the team leader on new company projects\\n collaborated with other interns to complete key projects\\n detailoriented when working under tight deadlines\\n ability to perform complex accounting procedures and provide \\nassistance to support staff\\ncollege graduate with three years of accounting internship experience possesses cpa certification and has the \\nability to work long and flexible hours proficient in multiple software platforms including quickbooks and quicken \\nwith the ability to learn quickly proven team leader who works well with others yet can work alone with success\\neducation\\nbachelor of science in\\naccounting gpa \\nlos angeles university \\nlos angeles ca \\nmay   may \\n \\nminored in business \\nadministration\\n \\nmember of the universitys \\nchapter of the accounting society\\nprofessional experience\\naccounting intern\\nwoolworths incorporated los angeles ca  october november \\n\\nkey skills\\n \\nable to perform budget planning \\nfor medium to large groups\\n \\ncan perform multiple accounting \\ntasks with attention to detail\\n \\ncpa certification\\n \\nknowledgeable in netsuite \\nsoftware\\n \\nknowledgeable of accounts \\nreceivable and payable\\n \\norganized and pays close \\nattention to detail\\n \\nstrong written and verbal skills'"
      ]
     },
     "execution_count": 68,
     "metadata": {},
     "output_type": "execute_result"
    }
   ],
   "source": [
    "cv_cleaned_data[0][0]"
   ]
  },
  {
   "cell_type": "markdown",
   "id": "6bde27c8-4933-4f6d-a669-d1f7039a8f99",
   "metadata": {},
   "source": [
    "---"
   ]
  },
  {
   "cell_type": "markdown",
   "id": "6871fa1a-7e2d-4066-beb2-7a7b3f972939",
   "metadata": {},
   "source": [
    "## Building NLP pipeline: 🔨\n",
    "\n",
    "- **Data to use: `cv_cleaned_data`**\n",
    "- **Table of Content:**\n",
    "    -  Tokenization.\n",
    "    -  Stopword Removal.\n",
    "    -  Lemmatization.\n",
    "    -  Joining Back Tokens\n",
    "    -  Vectorization"
   ]
  },
  {
   "cell_type": "code",
   "execution_count": 105,
   "id": "6da6f503-b1fe-4395-97d2-67dea75dd400",
   "metadata": {},
   "outputs": [],
   "source": [
    "stop_words = set(stopwords.words('english'))\n",
    "lemmatizer = WordNetLemmatizer()\n",
    "vectorizer = TfidfVectorizer()\n",
    "def preprocess_pipeline(data):\n",
    "    # Tokenization:\n",
    "    tokenized_data = [nltk.word_tokenize(text) for text in data]\n",
    "    # print(tokenized_data)\n",
    "\n",
    "    # Stopwords removal:\n",
    "    filtered_data = [[word for word in tokens if word not in stop_words] for tokens in tokenized_data]\n",
    "    # print(filtered_data)\n",
    "\n",
    "    # Lemmatization:\n",
    "    lemmatized_data = [[lemmatizer.lemmatize(word) for word in tokens] for tokens in filtered_data]\n",
    "    # print(lemmatized_data)\n",
    "\n",
    "    # Joining the tokens again for text formation\n",
    "    preprocessed_data = [\" \".join(tokens) for tokens in lemmatized_data]\n",
    "    # print(preprocessed_data)\n",
    "\n",
    "    # Vectorization:\n",
    "    # trainable_form = vectorizer.fit_transform(preprocessed_data)\n",
    "    # print(trainable_form)\n",
    "    \n",
    "    # return trainable_form\n",
    "    return preprocessed_data"
   ]
  },
  {
   "cell_type": "code",
   "execution_count": 98,
   "id": "8f8081f3-b0bb-40b8-815b-f023fe0a6ac0",
   "metadata": {},
   "outputs": [],
   "source": [
    "# preprocess_pipeline(cv_cleaned_data[0])\n",
    "\n",
    "# ...working"
   ]
  },
  {
   "cell_type": "markdown",
   "id": "b8b79251-553a-4243-ae04-fe1008a9e9e9",
   "metadata": {},
   "source": [
    "---\n",
    "\n",
    "## Data Preprocessing:"
   ]
  },
  {
   "cell_type": "code",
   "execution_count": 108,
   "id": "51ac12ec-6f0d-461f-8ca2-0c46530b1a9a",
   "metadata": {},
   "outputs": [
    {
     "data": {
      "text/plain": [
       "600"
      ]
     },
     "execution_count": 108,
     "metadata": {},
     "output_type": "execute_result"
    }
   ],
   "source": [
    "flattened_data = [' '.join(resume) for resume in cv_cleaned_data]\n",
    "len(flattened_data)"
   ]
  },
  {
   "cell_type": "code",
   "execution_count": 112,
   "id": "ca0cedc9-d954-4fbd-898b-dec6504bac94",
   "metadata": {},
   "outputs": [],
   "source": [
    "preprocessed_resumes = preprocess_pipeline(flattened_data)\n",
    "# preprocessed_resumes"
   ]
  },
  {
   "cell_type": "code",
   "execution_count": 152,
   "id": "1ae6e889-4c57-4271-a0f9-f46028ca422b",
   "metadata": {},
   "outputs": [
    {
     "data": {
      "text/plain": [
       "'yaling zhang senior animator year experience within film industry specializing character animation modeling rigging storyboarding strong history developing highquality character design feature film pixar dreamworks bedford avenue new york ny ya p lecom professional experience senior animator pixar new york ny october present oversee design character feature film moana soul onward toy story provide concept drawing perform modeling testing character design ensure alignment director vision create dynamic character animation film sequence coordinate director align character personality expression acting delivery manage team animator coordinate artist conduct review shotsand sequence identify continuity issue director animator dreamworks new york ny may october supported thedevelopmentofcharacteranimationsfor avarietyofanimated feature film including train dragon madagascar coordinated crossfunction ally artist animator technical designer production team ensure cohesive acting performance character across sequence conceptualized animation sequence defined visual aesthetic ensured alignment artistic goal across preproduction postproduction education master science b animation columbia university new york ny may may bachelor science b animation columbia university new york ny september may key skill character animation crossfunctional leadership modeling preproduction postproduction lifecycles maya certification autodesk maya certification final cut pro x certification apple adobe animator certification adobe'"
      ]
     },
     "execution_count": 152,
     "metadata": {},
     "output_type": "execute_result"
    }
   ],
   "source": [
    "preprocessed_resumes[334]"
   ]
  },
  {
   "cell_type": "code",
   "execution_count": 110,
   "id": "1ae136ba-f699-49f4-ba57-4ef62ef978c6",
   "metadata": {},
   "outputs": [],
   "source": [
    "# X = []\n",
    "# for data in cv_cleaned_data:\n",
    "#     X.append(preprocess_pipeline(data))\n",
    "# len(X)"
   ]
  },
  {
   "cell_type": "code",
   "execution_count": 116,
   "id": "940474a0-26c1-4cc6-aca4-a319f914a26d",
   "metadata": {},
   "outputs": [],
   "source": [
    "X = vectorizer.fit_transform(preprocessed_resumes)"
   ]
  },
  {
   "cell_type": "code",
   "execution_count": 117,
   "id": "576d1c3c-41ed-4429-a870-a496fb8572ce",
   "metadata": {},
   "outputs": [],
   "source": [
    "# X"
   ]
  },
  {
   "cell_type": "markdown",
   "id": "c18204b5-5306-4d4c-96c7-2441b45edf10",
   "metadata": {},
   "source": [
    "---"
   ]
  },
  {
   "cell_type": "markdown",
   "id": "ad6239d3-39fb-45c2-be15-5771d5ad4984",
   "metadata": {},
   "source": [
    "## 1. DBSCAN - Clustering model training:"
   ]
  },
  {
   "cell_type": "code",
   "execution_count": 118,
   "id": "0aec918a-8d5d-4273-8ef7-b87c90296427",
   "metadata": {},
   "outputs": [],
   "source": [
    "dbscan = DBSCAN(eps=0.5, min_samples=5)\n",
    "clusters = dbscan.fit_predict(X)"
   ]
  },
  {
   "cell_type": "code",
   "execution_count": null,
   "id": "03c1f4f1-6e60-451e-bc62-bd62e32b3be1",
   "metadata": {},
   "outputs": [],
   "source": []
  },
  {
   "cell_type": "markdown",
   "id": "4676148d-706f-411b-89ce-d8e73fd57d68",
   "metadata": {},
   "source": [
    "---"
   ]
  },
  {
   "cell_type": "markdown",
   "id": "f84771cf-8363-42ad-baeb-cd28d77b84f1",
   "metadata": {},
   "source": [
    "## Visualizing the results using PCA:\n",
    "- Principle Component Analysis for Dimensionality Reduction"
   ]
  },
  {
   "cell_type": "code",
   "execution_count": 145,
   "id": "73b67d50-f1b0-4d66-8c77-4dbf1e7152ba",
   "metadata": {},
   "outputs": [],
   "source": [
    "pca = PCA(n_components=3)\n",
    "reduced_features = pca.fit_transform(X.toarray())"
   ]
  },
  {
   "cell_type": "code",
   "execution_count": 146,
   "id": "b54fb05f-c508-4dba-8d2f-771d9228b940",
   "metadata": {},
   "outputs": [
    {
     "data": {
      "text/plain": [
       "(600, 3)"
      ]
     },
     "execution_count": 146,
     "metadata": {},
     "output_type": "execute_result"
    }
   ],
   "source": [
    "reduced_features.shape"
   ]
  },
  {
   "cell_type": "code",
   "execution_count": 147,
   "id": "cc8bdcca-156b-44c9-bdd6-4622c34882b2",
   "metadata": {},
   "outputs": [],
   "source": [
    "original_stdout = sys.stdout\n",
    "with open(\"temp.txt\", \"w\") as f:\n",
    "    # Writing data to a file\n",
    "    # f.write(print(reduced_features))\n",
    "    sys.stdout = f\n",
    "    # print(reduced_features)\n",
    "    for feature in reduced_features:\n",
    "        print(feature)\n",
    "    sys.stdout = original_stdout\n",
    "    # f.writelines(L)"
   ]
  },
  {
   "cell_type": "code",
   "execution_count": 153,
   "id": "a6e9e343-4b76-4e87-86ca-df8719a8b12d",
   "metadata": {},
   "outputs": [
    {
     "data": {
      "image/png": "[encoded data removed]",
      "text/plain": [
       "<Figure size 640x480 with 1 Axes>"
      ]
     },
     "metadata": {},
     "output_type": "display_data"
    }
   ],
   "source": [
    "## Plotting:\n",
    "plt.scatter(reduced_features[:,0], reduced_features[:, 2], c=clusters)\n",
    "plt.title(\"DBSCAN Clustering\")\n",
    "plt.show()"
   ]
  },
  {
   "cell_type": "code",
   "execution_count": null,
   "id": "87db8506-5c27-4380-b08b-6e008f1da85e",
   "metadata": {},
   "outputs": [],
   "source": []
  }
 ],
 "metadata": {
  "kernelspec": {
   "display_name": "Python 3 (ipykernel)",
   "language": "python",
   "name": "python3"
  },
  "language_info": {
   "codemirror_mode": {
    "name": "ipython",
    "version": 3
   },
   "file_extension": ".py",
   "mimetype": "text/x-python",
   "name": "python",
   "nbconvert_exporter": "python",
   "pygments_lexer": "ipython3",
   "version": "3.10.11"
  }
 },
 "nbformat": 4,
 "nbformat_minor": 5
}
